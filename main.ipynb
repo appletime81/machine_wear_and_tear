{
 "cells": [
  {
   "cell_type": "code",
   "execution_count": 2,
   "id": "02f0ed4e",
   "metadata": {},
   "outputs": [],
   "source": [
    "import pandas as pd\n",
    "pd.set_option ('display.max_rows', None)\n",
    "pd.set_option ('display.max_columns', None)"
   ]
  },
  {
   "cell_type": "code",
   "execution_count": null,
   "id": "8a23beb1",
   "metadata": {},
   "outputs": [],
   "source": [
    "def load_data(folder, fileName):\n",
    "    df = pd.read_csv(f\"{folder}/{fileName}\")\n",
    "    df"
   ]
  }
 ],
 "metadata": {
  "kernelspec": {
   "display_name": "Python 3 (ipykernel)",
   "language": "python",
   "name": "python3"
  },
  "language_info": {
   "codemirror_mode": {
    "name": "ipython",
    "version": 3
   },
   "file_extension": ".py",
   "mimetype": "text/x-python",
   "name": "python",
   "nbconvert_exporter": "python",
   "pygments_lexer": "ipython3",
   "version": "3.8.11"
  }
 },
 "nbformat": 4,
 "nbformat_minor": 5
}
